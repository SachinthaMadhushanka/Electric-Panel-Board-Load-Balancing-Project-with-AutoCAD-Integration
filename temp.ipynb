{
 "cells": [
  {
   "cell_type": "code",
   "execution_count": 2,
   "outputs": [],
   "source": [
    "from openpyxl.utils import get_column_letter\n",
    "from openpyxl import Workbook\n",
    "\n",
    "\n",
    "def mergeCells(sheet, cell1, cell2):\n",
    "    start_cell = f\"{get_column_letter(cell1[1])}{cell1[0]}\"\n",
    "    end_cell = f\"{get_column_letter(cell2[1])}{cell2[0]}\"\n",
    "    sheet.merge_cells(f\"{start_cell}:{end_cell}\")"
   ],
   "metadata": {
    "collapsed": false,
    "pycharm": {
     "name": "#%%\n"
    }
   }
  },
  {
   "cell_type": "code",
   "execution_count": 52,
   "outputs": [
    {
     "name": "stdout",
     "output_type": "stream",
     "text": [
      "panel board 1 , 3 , 23\n"
     ]
    }
   ],
   "source": [
    "\n",
    "from collections import Counter\n",
    "\n",
    "autocad_file_path = \"C:\\\\Users\\\\sachi\\\\OneDrive\\\\Documents\\\\Dinukas Program\\\\output.txt\"\n",
    "\n",
    "\n",
    "def readInputFileFromAutocad(filename):\n",
    "    load_details_dict = {}\n",
    "    circuit_details_dict = {}\n",
    "    f = open(filename)\n",
    "    lines = f.readlines()\n",
    "    panel_board_name = \"\"\n",
    "    num_of_phases = None\n",
    "    max_circuits = None\n",
    "\n",
    "    # Read panel board name, number of phases and number of circuits from autocad file\n",
    "    panel_board_name = lines[0].split(\":\")[1].strip()\n",
    "    num_of_phases = int(lines[1].split(\":\")[1].strip())\n",
    "    max_circuits = int(lines[2].split(\":\")[1].strip())\n",
    "\n",
    "    print(panel_board_name, \",\", num_of_phases, \",\", max_circuits)\n",
    "\n",
    "    # Read line by line\n",
    "    for line in lines[3:]:\n",
    "        line = line.strip()\n",
    "\n",
    "        data = line.split()\n",
    "        circuit_number = data[0].split(\":\")[1].strip()\n",
    "        object_id = data[1].split(\":\")[1].strip()\n",
    "        poles = int(data[2].split(\":\")[1].strip())\n",
    "        power = float(data[3].split(\":\")[1].strip())\n",
    "        load_number = int(data[5].split(\":\")[1].strip())\n",
    "\n",
    "        # Add each unique load to load_details_dict\n",
    "        # Each load can be accessed by load number\n",
    "\n",
    "        if load_number not in load_details_dict.keys():\n",
    "            load_details_dict[load_number] = {\"object_id\": object_id, \"poles\": poles, \"power\": power}\n",
    "\n",
    "        # Update circuit details dict\n",
    "        temp = []\n",
    "        if circuit_number in circuit_details_dict.keys():\n",
    "            temp = circuit_details_dict[circuit_number]\n",
    "        temp.append(load_number)\n",
    "        circuit_details_dict[circuit_number] = temp\n",
    "\n",
    "    sorted_load_numbers = sorted(load_details_dict.keys())\n",
    "    for circuit_num in circuit_details_dict.keys():\n",
    "        counter = Counter(circuit_details_dict[circuit_num])\n",
    "        circuit_details_dict[circuit_num] = counter\n",
    "\n",
    "    return load_details_dict, sorted_load_numbers, circuit_details_dict, panel_board_name, num_of_phases, max_circuits\n",
    "\n",
    "\n",
    "load_details_dict, sorted_load_numbers, circuit_details_dict, panel_board_name, num_of_phases, max_circuits = readInputFileFromAutocad(\n",
    "    autocad_file_path)"
   ],
   "metadata": {
    "collapsed": false,
    "pycharm": {
     "name": "#%%\n"
    }
   }
  },
  {
   "cell_type": "code",
   "execution_count": 53,
   "outputs": [],
   "source": [
    "from openpyxl.styles import Border, Side, Alignment, Font\n",
    "\n",
    "workbook = Workbook()\n",
    "worksheet = workbook.active\n",
    "\n",
    "mergeCells(worksheet, (1, 1), (2, 1))\n",
    "worksheet.cell(row=1, column=1).value = \"CIRCUIT LIST\"\n",
    "\n",
    "for index, load_num in enumerate(sorted_load_numbers):\n",
    "    worksheet.cell(row=1, column=index + 2).value = \"LOAD #\" + str(load_num)\n",
    "    worksheet.cell(row=2, column=index + 2).value = load_details_dict[load_num][\"power\"]\n",
    "\n",
    "worksheet.cell(row=1, column=len(sorted_load_numbers) + 2).value = \"Total power\"\n",
    "worksheet.cell(row=2, column=len(sorted_load_numbers) + 2).value = \"(WATTS)\"\n",
    "\n",
    "for index, circuit_num in enumerate(circuit_details_dict.keys()):\n",
    "    worksheet.cell(row=3 + index, column=1).value = \"CIRCUIT #\" + str(circuit_num)\n",
    "    loads = circuit_details_dict[circuit_num]\n",
    "\n",
    "    circuit_power = 0\n",
    "    for load_num, count in loads.items():\n",
    "        load_index = sorted_load_numbers.index(load_num)\n",
    "        worksheet.cell(row=3 + index, column=2 + load_index).value = count\n",
    "        circuit_power += load_details_dict[load_num][\"power\"] * count\n",
    "\n",
    "    worksheet.cell(row=3 + index, column=2 + len(sorted_load_numbers)).value = circuit_power\n",
    "\n",
    "    worksheet.cell(row=3 + index, column=1).value = \"CIRCUIT #\" + str(circuit_num)\n",
    "\n",
    "thin_border = Border(left=Side(style='thin'),\n",
    "                     right=Side(style='thin'),\n",
    "                     top=Side(style='thin'),\n",
    "                     bottom=Side(style='thin'))\n",
    "\n",
    "for row in range(1, len(circuit_details_dict.keys()) + 3):\n",
    "    for col in range(1, len(sorted_load_numbers) + 3):\n",
    "        worksheet.cell(row=row, column=col).alignment = Alignment(horizontal='center', vertical='center')\n",
    "        worksheet.cell(row=row, column=col).border = thin_border\n",
    "        worksheet.cell(row=row, column=col).border = thin_border\n",
    "        worksheet.cell(row=row, column=col).border = thin_border\n",
    "        worksheet.cell(row=row, column=col).font = Font(size=10)\n",
    "\n",
    "# Add fixed width to each column\n",
    "for col in range(1, len(circuit_details_dict.keys()) + 3):\n",
    "    width = 15\n",
    "    if col == 1:\n",
    "        width = 25\n",
    "    column_letter = get_column_letter(col)\n",
    "    worksheet.column_dimensions[column_letter].width = width\n",
    "\n",
    "workbook.save('generated_input_file.xlsx')"
   ],
   "metadata": {
    "collapsed": false,
    "pycharm": {
     "name": "#%%\n"
    }
   }
  },
  {
   "cell_type": "code",
   "execution_count": null,
   "outputs": [],
   "source": [
    "import time\n",
    "import os\n",
    "\n",
    "poll_interval = 1\n",
    "if os.path.exists(autocad_file_path):\n",
    "    os.remove(autocad_file_path)\n",
    "\n",
    "while not os.path.exists(autocad_file_path):\n",
    "    time.sleep(poll_interval)"
   ],
   "metadata": {
    "collapsed": false,
    "pycharm": {
     "name": "#%%\n"
    }
   }
  },
  {
   "cell_type": "code",
   "execution_count": 57,
   "outputs": [
    {
     "name": "stdout",
     "output_type": "stream",
     "text": [
      "\n",
      "-----------------------------------------------------------------------------------------\n",
      "Start Reading From generated_input_file.xlsx\n",
      "Completed Reading\n",
      "Start Distributing Among the Phases........\n",
      "Completed Distributing Among the Phases (Time Taken: 0.0, Difference: 51.06761565836299)\n",
      "Generating Output File\n",
      "Output File temp_output.xlsx Generated\n"
     ]
    }
   ],
   "source": [
    "from Phase2PanelBoard import balance2PhasePanelBoard\n",
    "from Phase3PanelBoard import balance3PhasePanelBoard\n",
    "import warnings\n",
    "\n",
    "generated_input_filename = \"generated_input_file.xlsx\"\n",
    "balanced_output_filename = \"temp_output.xlsx\"\n",
    "\n",
    "if num_of_phases == 3:\n",
    "    balance3PhasePanelBoard(generated_input_filename, balanced_output_filename, max_circuits)\n",
    "\n",
    "else:\n",
    "    balance2PhasePanelBoard(generated_input_filename, balanced_output_filename, max_circuits)"
   ],
   "metadata": {
    "collapsed": false,
    "pycharm": {
     "name": "#%%\n"
    }
   }
  },
  {
   "cell_type": "code",
   "execution_count": null,
   "outputs": [],
   "source": [],
   "metadata": {
    "collapsed": false,
    "pycharm": {
     "name": "#%%\n"
    }
   }
  },
  {
   "cell_type": "code",
   "execution_count": 88,
   "outputs": [
    {
     "name": "stdout",
     "output_type": "stream",
     "text": [
      "Start Reading generated file from AutoCAD\n",
      "Read generated file from AutoCAD\n",
      "Start generating input excel file\n",
      "Completed generating input excel file\n",
      "\n",
      "-----------------------------------------------------------------------------------------\n",
      "Start Reading From generated_input_file.xlsx\n",
      "Completed Reading\n",
      "Start Distributing Among 3 Phases........\n",
      "Completed Distributing Among the Phases (Time Taken: 0.0051021575927734375, Difference: 15.611814345991561)\n",
      "Generating Output File\n",
      "Output File balanced_output.xlsx Generated\n"
     ]
    }
   ],
   "source": [
    "from Phase2PanelBoard import balance2PhasePanelBoard\n",
    "from Phase3PanelBoard import balance3PhasePanelBoard\n",
    "\n",
    "from openpyxl.utils import get_column_letter\n",
    "from collections import Counter\n",
    "from collections import Counter\n",
    "from openpyxl.styles import Border, Side, Alignment, Font\n",
    "\n",
    "from openpyxl import Workbook\n",
    "import warnings\n",
    "\n",
    "autocad_file_path = \"C:\\\\Users\\\\sachi\\\\OneDrive\\\\Documents\\\\Dinukas Program\\\\output.txt\"\n",
    "generated_input_filename = \"generated_input_file.xlsx\"\n",
    "balanced_output_filename = \"balanced_output.xlsx\"\n",
    "\n",
    "circuit_load_handles_dict = {}\n",
    "\n",
    "\n",
    "def mergeCells(sheet, cell1, cell2):\n",
    "    start_cell = f\"{get_column_letter(cell1[1])}{cell1[0]}\"\n",
    "    end_cell = f\"{get_column_letter(cell2[1])}{cell2[0]}\"\n",
    "    sheet.merge_cells(f\"{start_cell}:{end_cell}\")\n",
    "\n",
    "\n",
    "def readInputFileFromAutocad(filename):\n",
    "    global circuit_load_handles_dict\n",
    "    circuit_load_handles_dict = {}\n",
    "\n",
    "    print(\"Start Reading generated file from AutoCAD\")\n",
    "    load_details_dict = {}\n",
    "    circuit_details_dict = {}\n",
    "    circuit_poles = {}\n",
    "    f = open(filename)\n",
    "    lines = f.readlines()\n",
    "\n",
    "    # Read panel board name, number of phases and number of circuits from autocad file\n",
    "    panel_board_name = lines[0].split(\":\")[1].strip()\n",
    "    num_of_phases = int(lines[1].split(\":\")[1].strip())\n",
    "    max_circuits = int(lines[2].split(\":\")[1].strip())\n",
    "\n",
    "    # Read line by line\n",
    "    for line in lines[3:]:\n",
    "        line = line.strip()\n",
    "\n",
    "        data = line.split()\n",
    "        circuit_number = data[0].split(\":\")[1].strip()\n",
    "        object_id = data[1].split(\":\")[1].strip()\n",
    "        poles = int(data[2].split(\":\")[1].strip())\n",
    "        power = float(data[3].split(\":\")[1].strip())\n",
    "        load_number = int(data[5].split(\":\")[1].strip())\n",
    "\n",
    "        # Update circuit poles value\n",
    "        circuit_poles[circuit_number] = poles\n",
    "\n",
    "        # Add each unique load to load_details_dict\n",
    "        # Each load can be accessed by load number\n",
    "\n",
    "        if load_number not in load_details_dict.keys():\n",
    "            load_details_dict[load_number] = {\"object_id\": object_id, \"poles\": poles, \"power\": power}\n",
    "\n",
    "        # Update circuit details dict\n",
    "        temp = []\n",
    "        if circuit_number in circuit_details_dict.keys():\n",
    "            temp = circuit_details_dict[circuit_number]\n",
    "        temp.append(load_number)\n",
    "        circuit_details_dict[circuit_number] = temp\n",
    "\n",
    "        # Update circuit load handles details\n",
    "        temp = []\n",
    "        if circuit_number in circuit_load_handles_dict.keys():\n",
    "            temp = circuit_load_handles_dict[circuit_number]\n",
    "        temp.append(object_id)\n",
    "        circuit_load_handles_dict[circuit_number] = temp\n",
    "\n",
    "    sorted_load_numbers = sorted(load_details_dict.keys())\n",
    "    for circuit_num in circuit_details_dict.keys():\n",
    "        counter = Counter(circuit_details_dict[circuit_num])\n",
    "        circuit_details_dict[circuit_num] = counter\n",
    "\n",
    "    print(\"Read generated file from AutoCAD\")\n",
    "    return load_details_dict, sorted_load_numbers, circuit_details_dict, panel_board_name, num_of_phases, max_circuits, circuit_poles\n",
    "\n",
    "\n",
    "def startBalancing():\n",
    "    global circuit_load_handles_dict\n",
    "\n",
    "    load_details_dict, sorted_load_numbers, circuit_details_dict, panel_board_name, num_of_phases, max_circuits, circuit_poles = readInputFileFromAutocad(\n",
    "        autocad_file_path)\n",
    "\n",
    "    print(\"Start generating input excel file\")\n",
    "    workbook = Workbook()\n",
    "    worksheet = workbook.active\n",
    "\n",
    "    mergeCells(worksheet, (1, 1), (2, 1))\n",
    "    worksheet.cell(row=1, column=1).value = \"CIRCUIT LIST\"\n",
    "\n",
    "    for index, load_num in enumerate(sorted_load_numbers):\n",
    "        worksheet.cell(row=1, column=index + 2).value = \"LOAD #\" + str(load_num)\n",
    "        worksheet.cell(row=2, column=index + 2).value = load_details_dict[load_num][\"power\"]\n",
    "\n",
    "    worksheet.cell(row=1, column=len(sorted_load_numbers) + 2).value = \"Total power\"\n",
    "    worksheet.cell(row=2, column=len(sorted_load_numbers) + 2).value = \"(WATTS)\"\n",
    "    mergeCells(worksheet, (1, len(sorted_load_numbers) + 3), (2, len(sorted_load_numbers) + 3))\n",
    "    worksheet.cell(row=1, column=len(sorted_load_numbers) + 3).value = \"Poles\"\n",
    "\n",
    "    for index, circuit_num in enumerate(circuit_details_dict.keys()):\n",
    "        worksheet.cell(row=3 + index, column=1).value = \"CIRCUIT #\" + str(circuit_num)\n",
    "        loads = circuit_details_dict[circuit_num]\n",
    "\n",
    "        circuit_power = 0\n",
    "        for load_num, count in loads.items():\n",
    "            load_index = sorted_load_numbers.index(load_num)\n",
    "            worksheet.cell(row=3 + index, column=2 + load_index).value = count\n",
    "            circuit_power += load_details_dict[load_num][\"power\"] * count\n",
    "\n",
    "        worksheet.cell(row=3 + index, column=2 + len(sorted_load_numbers)).value = circuit_power\n",
    "\n",
    "        worksheet.cell(row=3 + index, column=1).value = \"CIRCUIT #\" + str(circuit_num)\n",
    "        worksheet.cell(row=3 + index, column=len(sorted_load_numbers) + 3).value = circuit_poles[circuit_num]\n",
    "\n",
    "    thin_border = Border(left=Side(style='thin'),\n",
    "                         right=Side(style='thin'),\n",
    "                         top=Side(style='thin'),\n",
    "                         bottom=Side(style='thin'))\n",
    "\n",
    "    for row in range(1, len(circuit_details_dict.keys()) + 3):\n",
    "        for col in range(1, len(sorted_load_numbers) + 4):\n",
    "            worksheet.cell(row=row, column=col).alignment = Alignment(horizontal='center', vertical='center')\n",
    "            worksheet.cell(row=row, column=col).border = thin_border\n",
    "            worksheet.cell(row=row, column=col).border = thin_border\n",
    "            worksheet.cell(row=row, column=col).border = thin_border\n",
    "            worksheet.cell(row=row, column=col).font = Font(size=10)\n",
    "\n",
    "    # Add fixed width to each column\n",
    "    for col in range(1, len(circuit_details_dict.keys()) + 4):\n",
    "        width = 15\n",
    "        if col == 1:\n",
    "            width = 25\n",
    "        column_letter = get_column_letter(col)\n",
    "        worksheet.column_dimensions[column_letter].width = width\n",
    "\n",
    "    workbook.save(generated_input_filename)\n",
    "    print(\"Completed generating input excel file\")\n",
    "\n",
    "    if num_of_phases == 3:\n",
    "        balance3PhasePanelBoard(generated_input_filename, balanced_output_filename, max_circuits)\n",
    "\n",
    "    else:\n",
    "        balance2PhasePanelBoard(generated_input_filename, balanced_output_filename, max_circuits)\n",
    "\n",
    "\n",
    "startBalancing()"
   ],
   "metadata": {
    "collapsed": false,
    "pycharm": {
     "name": "#%%\n"
    }
   }
  },
  {
   "cell_type": "code",
   "execution_count": 90,
   "outputs": [
    {
     "name": "stdout",
     "output_type": "stream",
     "text": [
      "['3', '1', '2', '4', '5', '6']\n"
     ]
    }
   ],
   "source": [
    "import openpyxl\n",
    "\n",
    "pre_order_circuits = []\n",
    "work_book = openpyxl.load_workbook(balanced_output_filename, data_only=True)\n",
    "sheet = work_book.active\n",
    "\n",
    "circuit_index_ascending = 1\n",
    "for row in range(3, sheet.max_row+1):\n",
    "    value = sheet.cell(row=row, column=sheet.max_column).value\n",
    "    if value:\n",
    "        pre_order_circuits.append(value.split(\"#\")[1].strip())\n",
    "        sheet.cell(row=row, column=sheet.max_column).value = \"Circuit #\" + str(circuit_index_ascending)\n",
    "        circuit_index_ascending += 1\n",
    "\n",
    "print(pre_order_circuits)\n",
    "work_book.save(balanced_output_filename)"
   ],
   "metadata": {
    "collapsed": false,
    "pycharm": {
     "name": "#%%\n"
    }
   }
  },
  {
   "cell_type": "code",
   "execution_count": 91,
   "outputs": [],
   "source": [
    "all_handles_with_correct_circuit_num = {}\n",
    "for index, pre_order_circuit in enumerate(pre_order_circuits):\n",
    "    cur_handles = circuit_load_handles_dict[pre_order_circuit]\n",
    "    for handle in cur_handles:\n",
    "        all_handles_with_correct_circuit_num[handle] = index + 1\n",
    "    # for load_num in cur_load_list:\n",
    "    #     print(load_num)"
   ],
   "metadata": {
    "collapsed": false,
    "pycharm": {
     "name": "#%%\n"
    }
   }
  },
  {
   "cell_type": "code",
   "execution_count": 92,
   "outputs": [],
   "source": [
    "def is_file_open(file_path):\n",
    "    try:\n",
    "        # Try to open the file in append mode\n",
    "        with open(file_path, 'a'):\n",
    "            pass\n",
    "    except IOError:\n",
    "        # If an IOError is raised, the file is likely open in another process\n",
    "        return True\n",
    "    return False\n"
   ],
   "metadata": {
    "collapsed": false,
    "pycharm": {
     "name": "#%%\n"
    }
   }
  },
  {
   "cell_type": "code",
   "execution_count": 93,
   "outputs": [
    {
     "name": "stdout",
     "output_type": "stream",
     "text": [
      "AutoCAD file is opened by some other program.\n",
      "AutoCAD file is opened by some other program.\n",
      "AutoCAD file is opened by some other program.\n",
      "AutoCAD file is opened by some other program.\n",
      "AutoCAD file is opened by some other program.\n",
      "AutoCAD file is opened by some other program.\n",
      "AutoCAD file is opened by some other program.\n",
      "AutoCAD file is opened by some other program.\n",
      "AutoCAD file is opened by some other program.\n",
      "AutoCAD file is opened by some other program.\n",
      "AutoCAD file is opened by some other program.\n",
      "AutoCAD file is opened by some other program.\n",
      "AutoCAD file can be updated.\n"
     ]
    }
   ],
   "source": [
    "import win32com.client\n",
    "\n",
    "# Start AutoCAD\n",
    "acad = win32com.client.Dispatch(\"AutoCAD.Application\")\n",
    "\n",
    "autocad_file_path = \"C:\\\\Users\\\\sachi\\\\OneDrive\\\\Desktop\\\\eduardogrija437 2\\\\load file updated.dwg\"\n",
    "while True:\n",
    "    if is_file_open(autocad_file_path):\n",
    "        print(\"AutoCAD file is opened by some other program.\")\n",
    "        time.sleep(1)\n",
    "\n",
    "    else:\n",
    "        print(\"AutoCAD file can be updated.\")\n",
    "        break\n",
    "\n",
    "# Open a .dwg file\n",
    "doc = acad.Documents.Open(autocad_file_path)  # Replace with your actual file path\n",
    "\n",
    "# Handle value to search for\n",
    "handle_value = \"42A\"  # Replace this with your actual handle value\n",
    "\n",
    "# Iterate over all entities in the model space\n",
    "for entity in doc.ModelSpace:\n",
    "    if entity.Handle in all_handles_with_correct_circuit_num.keys():\n",
    "        # If the entity is a BlockReference, print its attributes\n",
    "        if entity.ObjectName == 'AcDbBlockReference':\n",
    "            for attrib in entity.GetAttributes():\n",
    "                if attrib.TagString == \"CIRCUITO\":\n",
    "                    attrib.TextString = all_handles_with_correct_circuit_num[entity.Handle]\n",
    "\n",
    "# Close the document\n",
    "doc.Save()\n",
    "doc.Close()\n",
    "\n",
    "# print(\"Error: You have opened the AutoCAD file.\")\n",
    "# time.sleep(1)"
   ],
   "metadata": {
    "collapsed": false,
    "pycharm": {
     "name": "#%%\n"
    }
   }
  },
  {
   "cell_type": "code",
   "execution_count": null,
   "outputs": [],
   "source": [
    "from tkinter import Tk, Label, Entry, filedialog, Button, Frame\n",
    "\n",
    "\n",
    "def browse_file():\n",
    "    filename = filedialog.askopenfilename()\n",
    "    autocad_filename.delete(0, 'end')\n",
    "    autocad_filename.insert(0, filename)\n",
    "\n",
    "\n",
    "######## UI #########################\n",
    "\n",
    "root = Tk()\n",
    "root.title(\"Dinukas Program\")\n",
    "\n",
    "window_width = 600\n",
    "window_height = 300\n",
    "\n",
    "screen_width = root.winfo_screenwidth()\n",
    "screen_height = root.winfo_screenheight()\n",
    "\n",
    "position_top = int(screen_height / 2 - window_height / 2)\n",
    "position_right = int(screen_width / 2 - window_width / 2)\n",
    "\n",
    "root.geometry(f\"{window_width}x{window_height}+{position_right}+{position_top}\")\n",
    "\n",
    "label2 = Label(root, text='AutoCAD File', font=(\"Arial bold\", 12))\n",
    "label2.pack(padx=5, pady=20)\n",
    "autocad_filename = Entry(root, width=50, font=(\"Arial bold\", 12))\n",
    "autocad_filename.pack(padx=5, pady=10)\n",
    "browse_btn = Button(root, text='Browse', font=(\"Arial bold\", 12), command=browse_file, bg='green', fg='white', padx=25,\n",
    "                    pady=5)\n",
    "browse_btn.pack(padx=5, pady=10)\n",
    "\n",
    "frame = Frame(root)\n",
    "frame.pack(padx=5, pady=10)\n",
    "\n",
    "button_start = Button(frame, text='Start Balancing', font=(\"Arial bold\", 13), bg='blue', fg='white', padx=25, pady=5,\n",
    "                      command=startBalancing)\n",
    "button_start.pack(padx=5, pady=20)\n",
    "\n",
    "root.mainloop()"
   ],
   "metadata": {
    "collapsed": false,
    "pycharm": {
     "name": "#%%\n"
    }
   }
  },
  {
   "cell_type": "code",
   "execution_count": null,
   "outputs": [],
   "source": [],
   "metadata": {
    "collapsed": false,
    "pycharm": {
     "name": "#%%\n"
    }
   }
  }
 ],
 "metadata": {
  "kernelspec": {
   "display_name": "Python 3",
   "language": "python",
   "name": "python3"
  },
  "language_info": {
   "codemirror_mode": {
    "name": "ipython",
    "version": 2
   },
   "file_extension": ".py",
   "mimetype": "text/x-python",
   "name": "python",
   "nbconvert_exporter": "python",
   "pygments_lexer": "ipython2",
   "version": "2.7.6"
  }
 },
 "nbformat": 4,
 "nbformat_minor": 0
}